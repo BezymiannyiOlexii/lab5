{
  "cells": [
    {
      "cell_type": "markdown",
      "metadata": {
        "id": "Tf4ap0QCN4dI"
      },
      "source": [
        "# Data"
      ]
    },
    {
      "cell_type": "code",
      "execution_count": null,
      "metadata": {
        "id": "r6mDd0nqH3sy"
      },
      "outputs": [],
      "source": [
        "import tensorflow as tf\n",
        "from google.colab.patches import cv2_imshow\n",
        "from PIL import Image\n",
        "import os\n",
        "import numpy as np"
      ]
    },
    {
      "cell_type": "code",
      "execution_count": null,
      "metadata": {
        "colab": {
          "base_uri": "https://localhost:8080/"
        },
        "id": "PekapkH8XXiQ",
        "outputId": "db5d4ac7-4e00-49f6-be55-458f6d4da79d"
      },
      "outputs": [
        {
          "name": "stdout",
          "output_type": "stream",
          "text": [
            "Requirement already satisfied: opencv-python==4.5.4.60 in /usr/local/lib/python3.7/dist-packages (4.5.4.60)\n",
            "Requirement already satisfied: numpy>=1.14.5 in /usr/local/lib/python3.7/dist-packages (from opencv-python==4.5.4.60) (1.19.5)\n"
          ]
        }
      ],
      "source": [
        "!pip install opencv-python==4.5.4.60"
      ]
    },
    {
      "cell_type": "code",
      "execution_count": null,
      "metadata": {
        "id": "QbRU876GfTDC"
      },
      "outputs": [],
      "source": [
        "import cv2 as cv"
      ]
    },
    {
      "cell_type": "code",
      "execution_count": null,
      "metadata": {
        "colab": {
          "base_uri": "https://localhost:8080/"
        },
        "id": "6PADsPPdJzQp",
        "outputId": "add67ded-757f-4303-ee3f-acc10ede2bda"
      },
      "outputs": [
        {
          "name": "stdout",
          "output_type": "stream",
          "text": [
            "Collecting kaggle\n",
            "  Using cached kaggle-1.5.12-py3-none-any.whl\n",
            "Installing collected packages: kaggle\n",
            "  Attempting uninstall: kaggle\n",
            "    Found existing installation: kaggle 1.5.12\n",
            "    Uninstalling kaggle-1.5.12:\n",
            "      Successfully uninstalled kaggle-1.5.12\n",
            "Successfully installed kaggle-1.5.12\n"
          ]
        }
      ],
      "source": [
        "!pip install --upgrade --force-reinstall --no-deps kaggle"
      ]
    },
    {
      "cell_type": "code",
      "execution_count": null,
      "metadata": {
        "id": "cQJntlHUJ0J6"
      },
      "outputs": [],
      "source": [
        "from google.colab import files"
      ]
    },
    {
      "cell_type": "code",
      "source": [
        ""
      ],
      "metadata": {
        "id": "BEd8iXy06Eog"
      },
      "execution_count": null,
      "outputs": []
    },
    {
      "cell_type": "markdown",
      "source": [
        "Здесь (в следующей ячейке) нужно загрузить kaggle api ключ как .json файл, его можно получить в найстройках аккаунта на сайте kaggle.com"
      ],
      "metadata": {
        "id": "yT4DRIjN5uOs"
      }
    },
    {
      "cell_type": "code",
      "execution_count": null,
      "metadata": {
        "id": "aHWtHlOfKQcD"
      },
      "outputs": [],
      "source": [
        "files.upload()"
      ]
    },
    {
      "cell_type": "code",
      "execution_count": null,
      "metadata": {
        "colab": {
          "base_uri": "https://localhost:8080/"
        },
        "id": "O4E07g2uKV4i",
        "outputId": "67cdfe7c-fdc5-46d0-ef33-60ec75c0a8a8"
      },
      "outputs": [
        {
          "name": "stdout",
          "output_type": "stream",
          "text": [
            "mkdir: cannot create directory ‘/root/.kaggle’: File exists\n"
          ]
        }
      ],
      "source": [
        "! mkdir ~/.kaggle"
      ]
    },
    {
      "cell_type": "code",
      "execution_count": null,
      "metadata": {
        "id": "rxyE5ysBKcOg"
      },
      "outputs": [],
      "source": [
        "! cp kaggle.json ~/.kaggle/"
      ]
    },
    {
      "cell_type": "code",
      "execution_count": null,
      "metadata": {
        "id": "ibguO1CmKe7Z"
      },
      "outputs": [],
      "source": [
        "! chmod 600 ~/.kaggle/kaggle.json"
      ]
    },
    {
      "cell_type": "code",
      "execution_count": null,
      "metadata": {
        "colab": {
          "base_uri": "https://localhost:8080/"
        },
        "id": "uHkjfCfUKe-f",
        "outputId": "e6052b0f-da60-4997-8bc2-79dec614f541"
      },
      "outputs": [
        {
          "name": "stdout",
          "output_type": "stream",
          "text": [
            "ref                                                    title                                               size  lastUpdated          downloadCount  voteCount  usabilityRating  \n",
            "-----------------------------------------------------  --------------------------------------------------  ----  -------------------  -------------  ---------  ---------------  \n",
            "phsophea101/image-for-stitching                        Image for stitching in computer vision (cv2)python   2GB  2021-03-07 15:58:51             32          5  0.5625           \n",
            "phsophea101/image-stitching-from-drone-capture-opencv  Image stitching from drone capture OpenCV           64MB  2021-03-21 08:38:29             44          2  0.4375           \n"
          ]
        }
      ],
      "source": [
        "!kaggle datasets list -s {,,'stitching'}"
      ]
    },
    {
      "cell_type": "code",
      "execution_count": null,
      "metadata": {
        "colab": {
          "base_uri": "https://localhost:8080/"
        },
        "id": "iVp56eJrKiGA",
        "outputId": "ee2eda00-a938-4933-8cf3-75977f134fa1"
      },
      "outputs": [
        {
          "name": "stdout",
          "output_type": "stream",
          "text": [
            "image-stitching-from-drone-capture-opencv.zip: Skipping, found more recently modified local copy (use --force to force download)\n"
          ]
        }
      ],
      "source": [
        "!kaggle datasets download -d {,,'phsophea101/image-stitching-from-drone-capture-opencv'} -p /content/kaggle/"
      ]
    },
    {
      "cell_type": "code",
      "execution_count": null,
      "metadata": {
        "colab": {
          "base_uri": "https://localhost:8080/"
        },
        "id": "PB3YTOmPKiIV",
        "outputId": "c127dded-4927-4301-a085-aa00b9032c9e"
      },
      "outputs": [
        {
          "name": "stdout",
          "output_type": "stream",
          "text": [
            "Archive:  /content/kaggle/image-stitching-from-drone-capture-opencv.zip\n",
            "replace /content/kaggle/drone/image_0001.jpg? [y]es, [n]o, [A]ll, [N]one, [r]ename: N\n"
          ]
        }
      ],
      "source": [
        "!unzip '/content/kaggle/image-stitching-from-drone-capture-opencv.zip' -d '/content/kaggle/'"
      ]
    },
    {
      "cell_type": "markdown",
      "metadata": {
        "id": "rTkha5P6OEDy"
      },
      "source": [
        "## reviewing images"
      ]
    },
    {
      "cell_type": "code",
      "execution_count": null,
      "metadata": {
        "id": "CvX0lp3tHzyF"
      },
      "outputs": [],
      "source": [
        "def print_image(n):\n",
        "  img = cv.imread('/content/kaggle/drone/image_'+n+'.jpg')\n",
        "  cv2_imshow(img)"
      ]
    },
    {
      "cell_type": "code",
      "execution_count": null,
      "metadata": {
        "colab": {
          "base_uri": "https://localhost:8080/",
          "height": 589
        },
        "id": "9wca6_I7J5TN",
        "outputId": "4072f84d-1dd7-4f94-e1e6-39af2fb51705"
      },
      "outputs": [],
      "source": [
        "print_image('0001')"
      ]
    },
    {
      "cell_type": "code",
      "execution_count": null,
      "metadata": {
        "colab": {
          "base_uri": "https://localhost:8080/",
          "height": 589
        },
        "id": "hgGw7bIMEjiJ",
        "outputId": "1c3c0f0d-bb55-4c21-d7a5-ee55245ad2d6"
      },
      "outputs": [],
      "source": [
        "print_image('0021')"
      ]
    },
    {
      "cell_type": "code",
      "execution_count": null,
      "metadata": {
        "id": "o8UYnYdsPdEP"
      },
      "outputs": [],
      "source": [
        "images = [f for f in os.listdir('/content/kaggle/drone')]\n",
        "images.sort()\n",
        "arr_images = []\n",
        "for i in images:\n",
        "    arr_images.append(cv.imread('/content/kaggle/drone/'+i))\n",
        "arr_images = np.array(arr_images)"
      ]
    },
    {
      "cell_type": "code",
      "execution_count": null,
      "metadata": {
        "colab": {
          "base_uri": "https://localhost:8080/"
        },
        "id": "-V_ea09BQf8C",
        "outputId": "ed380bed-4ff9-455d-faaa-3eaf4c142124"
      },
      "outputs": [
        {
          "data": {
            "text/plain": [
              "(44, 1530, 2720, 3)"
            ]
          },
          "execution_count": 43,
          "metadata": {},
          "output_type": "execute_result"
        }
      ],
      "source": [
        "arr_images.shape"
      ]
    },
    {
      "cell_type": "markdown",
      "metadata": {
        "id": "E_WzlDgnN-Gg"
      },
      "source": [
        "# first step"
      ]
    },
    {
      "cell_type": "code",
      "execution_count": null,
      "metadata": {
        "id": "RKXr2uI2b7Jp"
      },
      "outputs": [],
      "source": [
        "?cv.drawKeypoints"
      ]
    },
    {
      "cell_type": "code",
      "execution_count": null,
      "metadata": {
        "colab": {
          "base_uri": "https://localhost:8080/",
          "height": 776
        },
        "id": "FIxIOimOPY5x",
        "outputId": "a717a824-34a7-4c48-9656-128b8def4a7d"
      },
      "outputs": [],
      "source": [
        "import cv2 as cv\n",
        "img = arr_images[0]\n",
        "#img = cv.cvtColor(img, cv.COLOR_BGR2GRAY)\n",
        "sift = cv.SIFT_create()\n",
        "keypoints, descriptors = sift.detectAndCompute(img,None)\n",
        "img = cv.drawKeypoints(img, keypoints, None)\n",
        "print(len(keypoints))\n",
        "cv2_imshow(img)"
      ]
    },
    {
      "cell_type": "code",
      "execution_count": null,
      "metadata": {
        "colab": {
          "base_uri": "https://localhost:8080/",
          "height": 303
        },
        "id": "B44EENlEiJ_V",
        "outputId": "13db4ff3-285a-42c2-d33c-176b0742593a"
      },
      "outputs": [],
      "source": [
        "img1 = arr_images[0]\n",
        "img2 = arr_images[2]\n",
        "sift = cv.SIFT_create(200)\n",
        "\n",
        "keypoints_1, descriptors_1 = sift.detectAndCompute(img1,None)\n",
        "keypoints_2, descriptors_2 = sift.detectAndCompute(img2,None)\n",
        "bf = cv.BFMatcher(cv.NORM_L1, crossCheck=True)\n",
        "\n",
        "matches = bf.match(descriptors_1,descriptors_2)\n",
        "matches = sorted(matches, key = lambda x:x.distance)\n",
        "\n",
        "img3 = cv.drawMatches(img1, keypoints_1, img2, keypoints_2, matches[:50], img2, flags=2)\n",
        "cv2_imshow(img3)"
      ]
    },
    {
      "cell_type": "code",
      "execution_count": null,
      "metadata": {
        "colab": {
          "base_uri": "https://localhost:8080/",
          "height": 1000
        },
        "id": "oNBPegVhirZh",
        "outputId": "995a4b6e-dfbc-447c-ecb2-b6e876ea9076"
      },
      "outputs": [],
      "source": [
        "stitcher = cv.Stitcher.create()\n",
        "(status, result) = stitcher.stitch(arr_images[:20])\n",
        "if (status == cv.STITCHER_OK):\n",
        "  print('Success!')\n",
        "  cv2_imshow(result)\n",
        "else:\n",
        "  print('Dumpt')"
      ]
    },
    {
      "cell_type": "code",
      "execution_count": null,
      "metadata": {
        "id": "w1QWHq5A0k1S"
      },
      "outputs": [],
      "source": [
        ""
      ]
    },
    {
      "cell_type": "markdown",
      "source": [
        "Выводы:\n",
        "Алгоритм работает хорошо, на статичных снимках (когда перемещается камера относительно объектов). Если на снимках есть динамические объект, например: передвигающийся автомобиль вместе с передвижением камеры (и изминением пейзажа) и тд - алгоритму детекции точек и дисприпторов сложно вычленит фон, потому он привязывается к статичному объекту относительно камеры (т.е. динамическому относительно фона). Возможные улучшения и доработки: предобрабатываться такие \"сложные\" картинки, средством удаления статичных объектов относительно камеры, а уже после использовать алгоритм( искать ключевые точки, дескрипторы, связи между ними, матрицу гомографии, и склейку изображений)"
      ],
      "metadata": {
        "id": "Ix96SQVD3td6"
      }
    }
  ],
  "metadata": {
    "colab": {
      "collapsed_sections": [],
      "name": "lab5_stitching.ipynb",
      "provenance": []
    },
    "kernelspec": {
      "display_name": "Python 3",
      "name": "python3"
    },
    "language_info": {
      "name": "python"
    }
  },
  "nbformat": 4,
  "nbformat_minor": 0
}